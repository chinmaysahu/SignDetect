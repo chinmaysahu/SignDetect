{
 "cells": [
  {
   "cell_type": "code",
   "execution_count": 1,
   "metadata": {},
   "outputs": [],
   "source": [
    "# This is an example of the trsnafer learning or fine tuning of a model"
   ]
  },
  {
   "cell_type": "code",
   "execution_count": 4,
   "metadata": {},
   "outputs": [],
   "source": [
    "# Importing libraries\n",
    "import os\n",
    "import numpy as np\n",
    "import pandas as pd\n",
    "import keras\n",
    "import shutil\n",
    "import tensorflow as tf\n",
    "from keras import backend as K\n",
    "from keras.layers import Conv2D, MaxPool2D, Dropout, Activation, Dense, Flatten, BatchNormalization\n",
    "from keras.models import Sequential\n",
    "from keras.layers.advanced_activations import LeakyReLU\n",
    "from keras.preprocessing.image import ImageDataGenerator, img_to_array\n",
    "from keras.preprocessing import image\n",
    "from keras.metrics import categorical_crossentropy\n",
    "from keras.layers.convolutional import *\n",
    "from keras.applications import imagenet_utils\n",
    "from keras.optimizers import adam\n",
    "import matplotlib\n",
    "import matplotlib.pyplot as plt\n",
    "from sklearn.metrics import confusion_matrix\n",
    "import itertools"
   ]
  },
  {
   "cell_type": "code",
   "execution_count": 5,
   "metadata": {},
   "outputs": [
    {
     "data": {
      "text/plain": [
       "['.DS_Store', '0', '1', '4', '3', '2', '5']"
      ]
     },
     "execution_count": 5,
     "metadata": {},
     "output_type": "execute_result"
    }
   ],
   "source": [
    "files = os.listdir(os.getcwd() + '/Data/train')\n",
    "files"
   ]
  },
  {
   "cell_type": "code",
   "execution_count": 6,
   "metadata": {},
   "outputs": [
    {
     "data": {
      "text/plain": [
       "\"\\nfor i in ['0','1','2','3','4','5']:\\n    files = os.listdir(os.getcwd() + '/Data/train/' + i)\\n    leng = len(files)\\n    split_ratio1 = 0.15\\n    split_ratio2 = 0.14\\n    split_index1 = int(leng*split_ratio1)\\n    split_index2 = int(leng*(split_ratio1+split_ratio2))\\n    np.random.shuffle(files)\\n    for x in files[0:split_index1]:\\n        shutil.move(os.getcwd() + '/Data/train/' + i + '/' + x, os.getcwd() + '/Data/validation/' + i)\\n    for y in files[split_index1:split_index2]:\\n        shutil.move(os.getcwd() + '/Data/train/' + i + '/' + y, os.getcwd() + '/Data/test/' + i)\\n\""
      ]
     },
     "execution_count": 6,
     "metadata": {},
     "output_type": "execute_result"
    }
   ],
   "source": [
    "# Execute only once for splitting\n",
    "'''\n",
    "for i in ['0','1','2','3','4','5']:\n",
    "    files = os.listdir(os.getcwd() + '/Data/train/' + i)\n",
    "    leng = len(files)\n",
    "    split_ratio1 = 0.15\n",
    "    split_ratio2 = 0.14\n",
    "    split_index1 = int(leng*split_ratio1)\n",
    "    split_index2 = int(leng*(split_ratio1+split_ratio2))\n",
    "    np.random.shuffle(files)\n",
    "    for x in files[0:split_index1]:\n",
    "        shutil.move(os.getcwd() + '/Data/train/' + i + '/' + x, os.getcwd() + '/Data/validation/' + i)\n",
    "    for y in files[split_index1:split_index2]:\n",
    "        shutil.move(os.getcwd() + '/Data/train/' + i + '/' + y, os.getcwd() + '/Data/test/' + i)\n",
    "'''"
   ]
  },
  {
   "cell_type": "code",
   "execution_count": 7,
   "metadata": {},
   "outputs": [
    {
     "name": "stdout",
     "output_type": "stream",
     "text": [
      "Found 885 images belonging to 6 classes.\n",
      "Found 885 images belonging to 6 classes.\n",
      "Found 885 images belonging to 6 classes.\n"
     ]
    }
   ],
   "source": [
    "# Loading the batches of train, test, and validation data\n",
    "train_p = 'Data/train'\n",
    "valid_p = 'Data/validation'\n",
    "test_p = 'Data/test'\n",
    "\n",
    "train_bches = ImageDataGenerator(preprocessing_function= keras.applications.mobilenet.preprocess_input) \\\n",
    ".flow_from_directory(train_p, target_size = (224,224), batch_size = 10)\n",
    "valid_bches = ImageDataGenerator(preprocessing_function= keras.applications.mobilenet.preprocess_input) \\\n",
    ".flow_from_directory(train_p, target_size = (224,224), batch_size = 10)\n",
    "test_bches = ImageDataGenerator(preprocessing_function= keras.applications.mobilenet.preprocess_input) \\\n",
    ".flow_from_directory(train_p, target_size = (224,224), batch_size = 10)"
   ]
  },
  {
   "cell_type": "code",
   "execution_count": 8,
   "metadata": {},
   "outputs": [],
   "source": [
    "def image_prep(x):\n",
    "    img = image.load_img(x, target_size= (224,224))\n",
    "    img_array = image.img_to_array(img)\n",
    "    img = img_array.astype(\"float32\")  \n",
    "    img_dims = np.expand_dims(img, axis = 0)\n",
    "    img = keras.applications.mobilenet.preprocess_input(img_dims)\n",
    "    return img"
   ]
  },
  {
   "cell_type": "code",
   "execution_count": 9,
   "metadata": {},
   "outputs": [],
   "source": [
    "model = keras.applications.mobilenet.MobileNet(include_top=False, weights= 'imagenet', input_shape= (224,224,3))"
   ]
  },
  {
   "cell_type": "code",
   "execution_count": 10,
   "metadata": {},
   "outputs": [
    {
     "name": "stdout",
     "output_type": "stream",
     "text": [
      "_________________________________________________________________\n",
      "Layer (type)                 Output Shape              Param #   \n",
      "=================================================================\n",
      "input_1 (InputLayer)         (None, 224, 224, 3)       0         \n",
      "_________________________________________________________________\n",
      "conv1 (Conv2D)               (None, 112, 112, 32)      864       \n",
      "_________________________________________________________________\n",
      "conv1_bn (BatchNormalization (None, 112, 112, 32)      128       \n",
      "_________________________________________________________________\n",
      "conv1_relu (Activation)      (None, 112, 112, 32)      0         \n",
      "_________________________________________________________________\n",
      "conv_dw_1 (DepthwiseConv2D)  (None, 112, 112, 32)      288       \n",
      "_________________________________________________________________\n",
      "conv_dw_1_bn (BatchNormaliza (None, 112, 112, 32)      128       \n",
      "_________________________________________________________________\n",
      "conv_dw_1_relu (Activation)  (None, 112, 112, 32)      0         \n",
      "_________________________________________________________________\n",
      "conv_pw_1 (Conv2D)           (None, 112, 112, 64)      2048      \n",
      "_________________________________________________________________\n",
      "conv_pw_1_bn (BatchNormaliza (None, 112, 112, 64)      256       \n",
      "_________________________________________________________________\n",
      "conv_pw_1_relu (Activation)  (None, 112, 112, 64)      0         \n",
      "_________________________________________________________________\n",
      "conv_dw_2 (DepthwiseConv2D)  (None, 56, 56, 64)        576       \n",
      "_________________________________________________________________\n",
      "conv_dw_2_bn (BatchNormaliza (None, 56, 56, 64)        256       \n",
      "_________________________________________________________________\n",
      "conv_dw_2_relu (Activation)  (None, 56, 56, 64)        0         \n",
      "_________________________________________________________________\n",
      "conv_pw_2 (Conv2D)           (None, 56, 56, 128)       8192      \n",
      "_________________________________________________________________\n",
      "conv_pw_2_bn (BatchNormaliza (None, 56, 56, 128)       512       \n",
      "_________________________________________________________________\n",
      "conv_pw_2_relu (Activation)  (None, 56, 56, 128)       0         \n",
      "_________________________________________________________________\n",
      "conv_dw_3 (DepthwiseConv2D)  (None, 56, 56, 128)       1152      \n",
      "_________________________________________________________________\n",
      "conv_dw_3_bn (BatchNormaliza (None, 56, 56, 128)       512       \n",
      "_________________________________________________________________\n",
      "conv_dw_3_relu (Activation)  (None, 56, 56, 128)       0         \n",
      "_________________________________________________________________\n",
      "conv_pw_3 (Conv2D)           (None, 56, 56, 128)       16384     \n",
      "_________________________________________________________________\n",
      "conv_pw_3_bn (BatchNormaliza (None, 56, 56, 128)       512       \n",
      "_________________________________________________________________\n",
      "conv_pw_3_relu (Activation)  (None, 56, 56, 128)       0         \n",
      "_________________________________________________________________\n",
      "conv_dw_4 (DepthwiseConv2D)  (None, 28, 28, 128)       1152      \n",
      "_________________________________________________________________\n",
      "conv_dw_4_bn (BatchNormaliza (None, 28, 28, 128)       512       \n",
      "_________________________________________________________________\n",
      "conv_dw_4_relu (Activation)  (None, 28, 28, 128)       0         \n",
      "_________________________________________________________________\n",
      "conv_pw_4 (Conv2D)           (None, 28, 28, 256)       32768     \n",
      "_________________________________________________________________\n",
      "conv_pw_4_bn (BatchNormaliza (None, 28, 28, 256)       1024      \n",
      "_________________________________________________________________\n",
      "conv_pw_4_relu (Activation)  (None, 28, 28, 256)       0         \n",
      "_________________________________________________________________\n",
      "conv_dw_5 (DepthwiseConv2D)  (None, 28, 28, 256)       2304      \n",
      "_________________________________________________________________\n",
      "conv_dw_5_bn (BatchNormaliza (None, 28, 28, 256)       1024      \n",
      "_________________________________________________________________\n",
      "conv_dw_5_relu (Activation)  (None, 28, 28, 256)       0         \n",
      "_________________________________________________________________\n",
      "conv_pw_5 (Conv2D)           (None, 28, 28, 256)       65536     \n",
      "_________________________________________________________________\n",
      "conv_pw_5_bn (BatchNormaliza (None, 28, 28, 256)       1024      \n",
      "_________________________________________________________________\n",
      "conv_pw_5_relu (Activation)  (None, 28, 28, 256)       0         \n",
      "_________________________________________________________________\n",
      "conv_dw_6 (DepthwiseConv2D)  (None, 14, 14, 256)       2304      \n",
      "_________________________________________________________________\n",
      "conv_dw_6_bn (BatchNormaliza (None, 14, 14, 256)       1024      \n",
      "_________________________________________________________________\n",
      "conv_dw_6_relu (Activation)  (None, 14, 14, 256)       0         \n",
      "_________________________________________________________________\n",
      "conv_pw_6 (Conv2D)           (None, 14, 14, 512)       131072    \n",
      "_________________________________________________________________\n",
      "conv_pw_6_bn (BatchNormaliza (None, 14, 14, 512)       2048      \n",
      "_________________________________________________________________\n",
      "conv_pw_6_relu (Activation)  (None, 14, 14, 512)       0         \n",
      "_________________________________________________________________\n",
      "conv_dw_7 (DepthwiseConv2D)  (None, 14, 14, 512)       4608      \n",
      "_________________________________________________________________\n",
      "conv_dw_7_bn (BatchNormaliza (None, 14, 14, 512)       2048      \n",
      "_________________________________________________________________\n",
      "conv_dw_7_relu (Activation)  (None, 14, 14, 512)       0         \n",
      "_________________________________________________________________\n",
      "conv_pw_7 (Conv2D)           (None, 14, 14, 512)       262144    \n",
      "_________________________________________________________________\n",
      "conv_pw_7_bn (BatchNormaliza (None, 14, 14, 512)       2048      \n",
      "_________________________________________________________________\n",
      "conv_pw_7_relu (Activation)  (None, 14, 14, 512)       0         \n",
      "_________________________________________________________________\n",
      "conv_dw_8 (DepthwiseConv2D)  (None, 14, 14, 512)       4608      \n",
      "_________________________________________________________________\n",
      "conv_dw_8_bn (BatchNormaliza (None, 14, 14, 512)       2048      \n",
      "_________________________________________________________________\n",
      "conv_dw_8_relu (Activation)  (None, 14, 14, 512)       0         \n",
      "_________________________________________________________________\n",
      "conv_pw_8 (Conv2D)           (None, 14, 14, 512)       262144    \n",
      "_________________________________________________________________\n",
      "conv_pw_8_bn (BatchNormaliza (None, 14, 14, 512)       2048      \n",
      "_________________________________________________________________\n",
      "conv_pw_8_relu (Activation)  (None, 14, 14, 512)       0         \n",
      "_________________________________________________________________\n",
      "conv_dw_9 (DepthwiseConv2D)  (None, 14, 14, 512)       4608      \n",
      "_________________________________________________________________\n",
      "conv_dw_9_bn (BatchNormaliza (None, 14, 14, 512)       2048      \n",
      "_________________________________________________________________\n",
      "conv_dw_9_relu (Activation)  (None, 14, 14, 512)       0         \n",
      "_________________________________________________________________\n",
      "conv_pw_9 (Conv2D)           (None, 14, 14, 512)       262144    \n",
      "_________________________________________________________________\n",
      "conv_pw_9_bn (BatchNormaliza (None, 14, 14, 512)       2048      \n",
      "_________________________________________________________________\n",
      "conv_pw_9_relu (Activation)  (None, 14, 14, 512)       0         \n",
      "_________________________________________________________________\n",
      "conv_dw_10 (DepthwiseConv2D) (None, 14, 14, 512)       4608      \n",
      "_________________________________________________________________\n",
      "conv_dw_10_bn (BatchNormaliz (None, 14, 14, 512)       2048      \n",
      "_________________________________________________________________\n",
      "conv_dw_10_relu (Activation) (None, 14, 14, 512)       0         \n",
      "_________________________________________________________________\n",
      "conv_pw_10 (Conv2D)          (None, 14, 14, 512)       262144    \n",
      "_________________________________________________________________\n",
      "conv_pw_10_bn (BatchNormaliz (None, 14, 14, 512)       2048      \n",
      "_________________________________________________________________\n",
      "conv_pw_10_relu (Activation) (None, 14, 14, 512)       0         \n",
      "_________________________________________________________________\n",
      "conv_dw_11 (DepthwiseConv2D) (None, 14, 14, 512)       4608      \n",
      "_________________________________________________________________\n",
      "conv_dw_11_bn (BatchNormaliz (None, 14, 14, 512)       2048      \n",
      "_________________________________________________________________\n",
      "conv_dw_11_relu (Activation) (None, 14, 14, 512)       0         \n",
      "_________________________________________________________________\n",
      "conv_pw_11 (Conv2D)          (None, 14, 14, 512)       262144    \n",
      "_________________________________________________________________\n",
      "conv_pw_11_bn (BatchNormaliz (None, 14, 14, 512)       2048      \n",
      "_________________________________________________________________\n",
      "conv_pw_11_relu (Activation) (None, 14, 14, 512)       0         \n",
      "_________________________________________________________________\n",
      "conv_dw_12 (DepthwiseConv2D) (None, 7, 7, 512)         4608      \n",
      "_________________________________________________________________\n",
      "conv_dw_12_bn (BatchNormaliz (None, 7, 7, 512)         2048      \n",
      "_________________________________________________________________\n",
      "conv_dw_12_relu (Activation) (None, 7, 7, 512)         0         \n",
      "_________________________________________________________________\n",
      "conv_pw_12 (Conv2D)          (None, 7, 7, 1024)        524288    \n",
      "_________________________________________________________________\n",
      "conv_pw_12_bn (BatchNormaliz (None, 7, 7, 1024)        4096      \n",
      "_________________________________________________________________\n",
      "conv_pw_12_relu (Activation) (None, 7, 7, 1024)        0         \n",
      "_________________________________________________________________\n",
      "conv_dw_13 (DepthwiseConv2D) (None, 7, 7, 1024)        9216      \n",
      "_________________________________________________________________\n",
      "conv_dw_13_bn (BatchNormaliz (None, 7, 7, 1024)        4096      \n",
      "_________________________________________________________________\n",
      "conv_dw_13_relu (Activation) (None, 7, 7, 1024)        0         \n",
      "_________________________________________________________________\n",
      "conv_pw_13 (Conv2D)          (None, 7, 7, 1024)        1048576   \n",
      "_________________________________________________________________\n",
      "conv_pw_13_bn (BatchNormaliz (None, 7, 7, 1024)        4096      \n",
      "_________________________________________________________________\n",
      "conv_pw_13_relu (Activation) (None, 7, 7, 1024)        0         \n",
      "=================================================================\n",
      "Total params: 3,228,864\n",
      "Trainable params: 3,206,976\n",
      "Non-trainable params: 21,888\n",
      "_________________________________________________________________\n"
     ]
    }
   ],
   "source": [
    "model.summary()"
   ]
  },
  {
   "cell_type": "code",
   "execution_count": 11,
   "metadata": {},
   "outputs": [],
   "source": [
    "# Defining model\n",
    "def mobilenet():\n",
    "    model = keras.applications.mobilenet.MobileNet(include_top=False, weights= 'imagenet', input_shape= (224,224,3))\n",
    "    new_output = keras.layers.GlobalAveragePooling2D()(model.output)\n",
    "    new_output = keras.layers.Dense(6, activation='softmax')(new_output)\n",
    "    model = keras.engine.training.Model(model.inputs, new_output)\n",
    "    return model"
   ]
  },
  {
   "cell_type": "code",
   "execution_count": 12,
   "metadata": {},
   "outputs": [],
   "source": [
    "model = mobilenet()"
   ]
  },
  {
   "cell_type": "code",
   "execution_count": 13,
   "metadata": {},
   "outputs": [
    {
     "data": {
      "text/plain": [
       "84"
      ]
     },
     "execution_count": 13,
     "metadata": {},
     "output_type": "execute_result"
    }
   ],
   "source": [
    "len(model.layers)"
   ]
  },
  {
   "cell_type": "code",
   "execution_count": 14,
   "metadata": {},
   "outputs": [
    {
     "data": {
      "text/plain": [
       "array([[0., 1., 0., 0., 0., 0.],\n",
       "       [1., 0., 0., 0., 0., 0.],\n",
       "       [1., 0., 0., 0., 0., 0.],\n",
       "       [0., 0., 0., 0., 1., 0.],\n",
       "       [1., 0., 0., 0., 0., 0.],\n",
       "       [0., 0., 0., 0., 1., 0.],\n",
       "       [0., 0., 1., 0., 0., 0.],\n",
       "       [0., 1., 0., 0., 0., 0.],\n",
       "       [0., 0., 0., 0., 1., 0.],\n",
       "       [0., 0., 1., 0., 0., 0.]], dtype=float32)"
      ]
     },
     "execution_count": 14,
     "metadata": {},
     "output_type": "execute_result"
    }
   ],
   "source": [
    "img, labels = next(train_bches)\n",
    "labels"
   ]
  },
  {
   "cell_type": "code",
   "execution_count": 15,
   "metadata": {},
   "outputs": [],
   "source": [
    "for layer in model.layers[:-23]:\n",
    "        layer.trainable = False"
   ]
  },
  {
   "cell_type": "code",
   "execution_count": 16,
   "metadata": {},
   "outputs": [],
   "source": [
    "# Compiling model\n",
    "model.compile(\n",
    "    loss='categorical_crossentropy',  # we train 102-way classification\n",
    "    optimizer=keras.optimizers.adamax(lr=1e-2),  # we can take big lr here because we fixed first layers\n",
    "    metrics=['accuracy']  # report accuracy during training\n",
    ")"
   ]
  },
  {
   "cell_type": "code",
   "execution_count": 17,
   "metadata": {},
   "outputs": [
    {
     "name": "stdout",
     "output_type": "stream",
     "text": [
      "Epoch 1/40\n",
      "15/15 [==============================] - 16s 1s/step - loss: 1.9126 - acc: 0.6463 - val_loss: 5.2069 - val_acc: 0.6333\n",
      "Epoch 2/40\n",
      "15/15 [==============================] - 16s 1s/step - loss: 1.0704 - acc: 0.7267 - val_loss: 4.3449 - val_acc: 0.4667\n",
      "Epoch 3/40\n",
      "15/15 [==============================] - 16s 1s/step - loss: 0.4275 - acc: 0.8200 - val_loss: 2.5734 - val_acc: 0.4667\n",
      "Epoch 4/40\n",
      "15/15 [==============================] - 17s 1s/step - loss: 0.4664 - acc: 0.8933 - val_loss: 1.1128 - val_acc: 0.7000\n",
      "Epoch 5/40\n",
      "15/15 [==============================] - 17s 1s/step - loss: 0.1673 - acc: 0.9400 - val_loss: 0.3609 - val_acc: 0.8000\n",
      "Epoch 6/40\n",
      "15/15 [==============================] - 17s 1s/step - loss: 0.3116 - acc: 0.9133 - val_loss: 0.1008 - val_acc: 0.9667\n",
      "Epoch 7/40\n",
      "15/15 [==============================] - 16s 1s/step - loss: 0.1732 - acc: 0.9333 - val_loss: 0.9395 - val_acc: 0.7333\n",
      "Epoch 8/40\n",
      "15/15 [==============================] - 17s 1s/step - loss: 0.1090 - acc: 0.9867 - val_loss: 0.6839 - val_acc: 0.7667\n",
      "Epoch 9/40\n",
      "15/15 [==============================] - 17s 1s/step - loss: 0.0923 - acc: 0.9533 - val_loss: 0.0120 - val_acc: 1.0000\n",
      "Epoch 10/40\n",
      "15/15 [==============================] - 16s 1s/step - loss: 0.1903 - acc: 0.9600 - val_loss: 0.0223 - val_acc: 1.0000\n",
      "Epoch 11/40\n",
      "15/15 [==============================] - 16s 1s/step - loss: 0.0326 - acc: 0.9867 - val_loss: 0.0079 - val_acc: 1.0000\n",
      "Epoch 12/40\n",
      "15/15 [==============================] - 16s 1s/step - loss: 0.0549 - acc: 0.9933 - val_loss: 0.0141 - val_acc: 1.0000\n",
      "Epoch 13/40\n",
      "15/15 [==============================] - 16s 1s/step - loss: 0.0490 - acc: 0.9800 - val_loss: 0.0151 - val_acc: 1.0000\n",
      "Epoch 14/40\n",
      "15/15 [==============================] - 15s 1s/step - loss: 0.0657 - acc: 0.9733 - val_loss: 0.0526 - val_acc: 0.9667\n",
      "Epoch 15/40\n",
      "15/15 [==============================] - 15s 989ms/step - loss: 0.0340 - acc: 0.9933 - val_loss: 0.2350 - val_acc: 0.9333\n",
      "Epoch 16/40\n",
      "15/15 [==============================] - 15s 991ms/step - loss: 0.0225 - acc: 1.0000 - val_loss: 0.0107 - val_acc: 1.0000\n",
      "Epoch 17/40\n",
      "15/15 [==============================] - 15s 991ms/step - loss: 0.1673 - acc: 0.9800 - val_loss: 0.0074 - val_acc: 1.0000\n",
      "Epoch 18/40\n",
      "15/15 [==============================] - 15s 1s/step - loss: 0.0312 - acc: 0.9867 - val_loss: 0.0128 - val_acc: 1.0000\n",
      "Epoch 19/40\n",
      "15/15 [==============================] - 14s 932ms/step - loss: 0.1353 - acc: 0.9537 - val_loss: 0.0470 - val_acc: 0.9667\n",
      "Epoch 20/40\n",
      "15/15 [==============================] - 14s 935ms/step - loss: 0.0710 - acc: 0.9667 - val_loss: 0.1140 - val_acc: 0.9333\n",
      "Epoch 21/40\n",
      "15/15 [==============================] - 14s 964ms/step - loss: 0.1004 - acc: 0.9800 - val_loss: 0.1390 - val_acc: 0.9000\n",
      "Epoch 22/40\n",
      "15/15 [==============================] - 14s 916ms/step - loss: 0.0249 - acc: 0.9867 - val_loss: 0.2322 - val_acc: 0.9333\n",
      "Epoch 23/40\n",
      "15/15 [==============================] - 14s 922ms/step - loss: 0.0285 - acc: 0.9933 - val_loss: 0.3366 - val_acc: 0.9667\n",
      "Epoch 24/40\n",
      "15/15 [==============================] - 14s 900ms/step - loss: 0.0364 - acc: 0.9867 - val_loss: 0.0052 - val_acc: 1.0000\n",
      "Epoch 25/40\n",
      "15/15 [==============================] - 14s 910ms/step - loss: 0.1026 - acc: 0.9867 - val_loss: 0.1343 - val_acc: 0.9667\n",
      "Epoch 26/40\n",
      "15/15 [==============================] - 14s 904ms/step - loss: 0.0369 - acc: 0.9933 - val_loss: 0.0171 - val_acc: 1.0000\n",
      "Epoch 27/40\n",
      "15/15 [==============================] - 13s 878ms/step - loss: 0.0711 - acc: 0.9871 - val_loss: 0.0792 - val_acc: 0.9667\n",
      "Epoch 28/40\n",
      "15/15 [==============================] - 13s 899ms/step - loss: 0.0510 - acc: 0.9800 - val_loss: 0.0101 - val_acc: 1.0000\n",
      "Epoch 29/40\n",
      "15/15 [==============================] - 14s 906ms/step - loss: 0.0314 - acc: 0.9933 - val_loss: 0.0271 - val_acc: 1.0000\n",
      "Epoch 30/40\n",
      "15/15 [==============================] - 13s 885ms/step - loss: 0.0290 - acc: 0.9933 - val_loss: 0.0264 - val_acc: 1.0000\n",
      "Epoch 31/40\n",
      "15/15 [==============================] - 14s 903ms/step - loss: 0.0100 - acc: 1.0000 - val_loss: 0.0317 - val_acc: 1.0000\n",
      "Epoch 32/40\n",
      "15/15 [==============================] - 14s 907ms/step - loss: 0.0032 - acc: 1.0000 - val_loss: 0.0062 - val_acc: 1.0000\n",
      "Epoch 33/40\n",
      "15/15 [==============================] - 14s 902ms/step - loss: 0.0049 - acc: 1.0000 - val_loss: 0.1470 - val_acc: 0.9667\n",
      "Epoch 34/40\n",
      "15/15 [==============================] - 13s 881ms/step - loss: 0.0017 - acc: 1.0000 - val_loss: 0.0104 - val_acc: 1.0000\n",
      "Epoch 35/40\n",
      "15/15 [==============================] - 14s 901ms/step - loss: 0.0025 - acc: 1.0000 - val_loss: 0.0123 - val_acc: 1.0000\n",
      "Epoch 36/40\n",
      "15/15 [==============================] - 14s 905ms/step - loss: 0.0506 - acc: 0.9933 - val_loss: 0.0091 - val_acc: 1.0000\n",
      "Epoch 37/40\n",
      "15/15 [==============================] - 14s 906ms/step - loss: 0.0116 - acc: 1.0000 - val_loss: 0.0114 - val_acc: 1.0000\n",
      "Epoch 38/40\n",
      "15/15 [==============================] - 14s 913ms/step - loss: 0.0018 - acc: 1.0000 - val_loss: 0.0068 - val_acc: 1.0000\n",
      "Epoch 39/40\n",
      "15/15 [==============================] - 13s 882ms/step - loss: 0.0099 - acc: 1.0000 - val_loss: 0.0077 - val_acc: 1.0000\n",
      "Epoch 40/40\n",
      "15/15 [==============================] - 15s 967ms/step - loss: 0.0055 - acc: 1.0000 - val_loss: 0.0034 - val_acc: 1.0000\n"
     ]
    },
    {
     "data": {
      "text/plain": [
       "<keras.callbacks.History at 0x12e22dbe0>"
      ]
     },
     "execution_count": 17,
     "metadata": {},
     "output_type": "execute_result"
    }
   ],
   "source": [
    "model.fit_generator(train_bches, steps_per_epoch=15, validation_data=valid_bches, validation_steps= 3, epochs = 40,verbose=1)"
   ]
  },
  {
   "cell_type": "code",
   "execution_count": 18,
   "metadata": {},
   "outputs": [],
   "source": [
    "model.save('modeltransfer1.h5')\n",
    "model.save_weights('modeltranferweights1.h5')"
   ]
  },
  {
   "cell_type": "code",
   "execution_count": 19,
   "metadata": {},
   "outputs": [],
   "source": [
    "test_labels = test_bches.classes"
   ]
  },
  {
   "cell_type": "code",
   "execution_count": 20,
   "metadata": {},
   "outputs": [
    {
     "name": "stdout",
     "output_type": "stream",
     "text": [
      "5/5 [==============================] - 4s 738ms/step\n"
     ]
    },
    {
     "data": {
      "text/plain": [
       "array([[9.40260421e-08, 2.77310563e-10, 8.00441849e-05, 9.68267727e-07,\n",
       "        9.99642611e-01, 2.76282983e-04],\n",
       "       [1.55250223e-06, 9.90899920e-01, 9.06031299e-03, 3.62302817e-05,\n",
       "        2.02118076e-06, 8.26575299e-13],\n",
       "       [2.79972621e-04, 9.98494148e-01, 5.35922998e-04, 2.14446583e-04,\n",
       "        4.74993256e-04, 4.44793642e-07],\n",
       "       [1.16544516e-06, 2.56364201e-05, 1.80969437e-04, 9.99748647e-01,\n",
       "        7.05032164e-07, 4.29003449e-05],\n",
       "       [4.14905969e-07, 1.64542442e-08, 2.50527170e-04, 4.00189123e-07,\n",
       "        9.99509335e-01, 2.39260888e-04],\n",
       "       [2.89640838e-07, 1.72361160e-05, 2.85015581e-03, 9.97132063e-01,\n",
       "        1.29001478e-07, 1.21003097e-07],\n",
       "       [5.51167489e-07, 2.58674231e-06, 2.89230462e-04, 9.99682546e-01,\n",
       "        8.00480962e-08, 2.50561607e-05],\n",
       "       [9.99881864e-01, 3.74942429e-05, 6.95908602e-06, 6.82504178e-05,\n",
       "        5.14911244e-06, 1.81860301e-07],\n",
       "       [7.23455798e-07, 9.97506917e-01, 2.48450926e-03, 7.27129054e-06,\n",
       "        5.76663865e-07, 8.38730737e-14],\n",
       "       [1.87947151e-08, 3.73276748e-06, 9.99593794e-01, 3.55590251e-04,\n",
       "        4.69521256e-05, 2.84034580e-12],\n",
       "       [5.11849230e-08, 8.17990380e-12, 4.30639602e-07, 3.41563136e-05,\n",
       "        2.29535205e-03, 9.97669995e-01],\n",
       "       [4.16038546e-07, 6.10174766e-06, 2.85181124e-02, 9.71474349e-01,\n",
       "        9.26835924e-07, 1.64639602e-07],\n",
       "       [9.71319537e-07, 7.05543926e-06, 5.26586063e-02, 9.47266638e-01,\n",
       "        5.44602117e-05, 1.22712245e-05],\n",
       "       [9.99999166e-01, 2.41487133e-08, 5.50729283e-07, 1.28114038e-07,\n",
       "        1.59320734e-07, 1.22983146e-09],\n",
       "       [9.99999762e-01, 2.69879905e-08, 1.02961245e-07, 7.49435500e-08,\n",
       "        2.24984014e-08, 1.66913358e-10],\n",
       "       [9.99817550e-01, 1.87896148e-05, 5.00609312e-05, 1.02526152e-04,\n",
       "        1.05779818e-05, 5.18583136e-07],\n",
       "       [9.99999404e-01, 9.76179066e-08, 3.11997098e-07, 3.38095383e-08,\n",
       "        1.24103053e-07, 1.59543115e-10],\n",
       "       [3.02412388e-08, 4.69589986e-06, 7.45528960e-04, 9.99249637e-01,\n",
       "        5.43686740e-09, 6.90504010e-08],\n",
       "       [6.65358186e-07, 9.95992243e-01, 3.99140874e-03, 1.53534074e-05,\n",
       "        3.49388415e-07, 1.50245837e-13],\n",
       "       [2.38466259e-06, 5.41010777e-05, 1.59788341e-03, 9.98323023e-01,\n",
       "        5.09026165e-07, 2.21831433e-05],\n",
       "       [1.47481815e-05, 7.08139269e-04, 9.97392058e-01, 6.17944344e-04,\n",
       "        1.26714341e-03, 3.40224937e-09],\n",
       "       [2.32252845e-07, 4.64262150e-04, 9.97851849e-01, 8.06775526e-04,\n",
       "        8.76930833e-04, 1.88490959e-11],\n",
       "       [2.31154672e-06, 2.69928441e-05, 9.97263551e-01, 1.28254900e-03,\n",
       "        1.42471201e-03, 7.37635419e-09],\n",
       "       [1.31208836e-07, 3.10538890e-05, 9.99558508e-01, 2.22255039e-04,\n",
       "        1.88046324e-04, 2.52704524e-11],\n",
       "       [8.47278727e-08, 5.21362745e-05, 9.98753309e-01, 9.44508181e-04,\n",
       "        2.49875186e-04, 1.90299495e-11],\n",
       "       [1.23877442e-06, 2.66653005e-05, 3.77465859e-02, 9.62219894e-01,\n",
       "        2.04589492e-06, 3.51264862e-06],\n",
       "       [1.91351933e-06, 9.90069807e-01, 9.91553813e-03, 1.17377567e-05,\n",
       "        1.11706163e-06, 6.90401133e-13],\n",
       "       [4.23326352e-09, 4.64433797e-10, 3.14337267e-05, 9.64179350e-08,\n",
       "        9.99967456e-01, 1.01083936e-06],\n",
       "       [8.88875533e-08, 5.36562704e-11, 1.54459343e-07, 7.87421232e-06,\n",
       "        3.11940187e-03, 9.96872485e-01],\n",
       "       [9.99993324e-01, 6.43387693e-07, 4.07891139e-06, 1.45441129e-06,\n",
       "        5.80145866e-07, 4.20844826e-09],\n",
       "       [1.43942736e-06, 2.06989043e-05, 1.87613778e-02, 9.81215000e-01,\n",
       "        3.51697167e-07, 1.15694218e-06],\n",
       "       [9.99974489e-01, 3.37815618e-06, 8.59408738e-06, 1.85570605e-06,\n",
       "        1.16546662e-05, 8.69465655e-09],\n",
       "       [4.95019172e-08, 2.49986679e-05, 9.98856544e-01, 9.31951101e-04,\n",
       "        1.86489604e-04, 2.19339061e-11],\n",
       "       [1.23552745e-05, 9.99236822e-01, 7.45500554e-04, 4.19881462e-06,\n",
       "        1.21990354e-06, 7.77679744e-12],\n",
       "       [5.38234630e-08, 2.09087902e-05, 9.98045087e-01, 1.65218010e-03,\n",
       "        2.81713059e-04, 5.36666406e-11],\n",
       "       [2.04525421e-07, 1.15566716e-10, 1.73599503e-07, 8.77979255e-06,\n",
       "        2.94759381e-03, 9.97043192e-01],\n",
       "       [1.51196355e-06, 9.96396005e-01, 3.59672471e-03, 5.16196451e-06,\n",
       "        5.61025615e-07, 1.27065405e-13],\n",
       "       [9.71416625e-07, 1.26769606e-04, 8.04031151e-04, 9.99045432e-01,\n",
       "        1.15720422e-06, 2.15862001e-05],\n",
       "       [7.61947319e-07, 5.28926830e-05, 1.01078143e-02, 9.89836872e-01,\n",
       "        5.72950512e-07, 1.10894405e-06],\n",
       "       [1.00000000e+00, 4.33286546e-10, 1.46182844e-08, 2.01419836e-09,\n",
       "        1.53465829e-09, 2.40679850e-12],\n",
       "       [6.12021083e-08, 8.34930736e-10, 6.87978973e-05, 7.42278871e-07,\n",
       "        9.99844432e-01, 8.59612192e-05],\n",
       "       [3.20846425e-06, 4.14141192e-04, 9.98524964e-01, 2.55788647e-04,\n",
       "        8.01914663e-04, 3.28640226e-10],\n",
       "       [9.99999285e-01, 1.35338318e-08, 3.70243271e-07, 2.81379215e-07,\n",
       "        7.17251112e-08, 1.28768529e-09],\n",
       "       [2.24493544e-08, 6.91954574e-06, 9.98499393e-01, 1.18921092e-03,\n",
       "        3.04531044e-04, 1.38786144e-11],\n",
       "       [9.99999523e-01, 3.20588676e-08, 3.39887578e-07, 1.62825458e-07,\n",
       "        5.70575480e-08, 1.83994500e-10],\n",
       "       [2.92234983e-08, 1.95055039e-09, 1.77639649e-05, 3.08372307e-07,\n",
       "        9.99924302e-01, 5.76213679e-05],\n",
       "       [9.99978542e-01, 5.81795518e-07, 2.52306018e-06, 1.80146963e-05,\n",
       "        2.75196044e-07, 7.56953042e-08],\n",
       "       [2.75793450e-08, 1.28272615e-10, 8.19017998e-07, 1.07841210e-04,\n",
       "        5.14008431e-03, 9.94751275e-01],\n",
       "       [6.53582276e-07, 9.97776210e-01, 2.21951539e-03, 3.48431126e-06,\n",
       "        2.55763013e-07, 2.01907362e-14],\n",
       "       [9.99998808e-01, 5.92079914e-08, 8.06091862e-07, 1.96846912e-08,\n",
       "        3.91193396e-07, 3.90992690e-11]], dtype=float32)"
      ]
     },
     "execution_count": 20,
     "metadata": {},
     "output_type": "execute_result"
    }
   ],
   "source": [
    "predicts = model.predict_generator(test_bches, steps=5, verbose=1)\n",
    "predicts"
   ]
  },
  {
   "cell_type": "code",
   "execution_count": 161,
   "metadata": {},
   "outputs": [
    {
     "data": {
      "text/plain": [
       "array([1, 0, 1, 0, 0, 1, 2, 4, 1, 1, 5, 0, 5, 0, 1, 2, 1, 4, 5, 5, 2, 0,\n",
       "       3, 1, 3, 4, 3, 2, 0, 4, 1, 4, 2, 1, 0, 2, 1, 3, 5, 0, 3, 3, 4, 0,\n",
       "       0, 2, 2, 1, 0, 4])"
      ]
     },
     "execution_count": 161,
     "metadata": {},
     "output_type": "execute_result"
    }
   ],
   "source": [
    "predicts.argmax(axis=1)"
   ]
  },
  {
   "cell_type": "code",
   "execution_count": 162,
   "metadata": {
    "collapsed": true
   },
   "outputs": [
    {
     "ename": "ValueError",
     "evalue": "Found input variables with inconsistent numbers of samples: [885, 50]",
     "output_type": "error",
     "traceback": [
      "\u001b[0;31m---------------------------------------------------------------------------\u001b[0m",
      "\u001b[0;31mValueError\u001b[0m                                Traceback (most recent call last)",
      "\u001b[0;32m<ipython-input-162-61d2b0cd761e>\u001b[0m in \u001b[0;36m<module>\u001b[0;34m()\u001b[0m\n\u001b[0;32m----> 1\u001b[0;31m \u001b[0mcm\u001b[0m \u001b[0;34m=\u001b[0m \u001b[0mconfusion_matrix\u001b[0m\u001b[0;34m(\u001b[0m\u001b[0mtest_labels\u001b[0m\u001b[0;34m,\u001b[0m \u001b[0mpredicts\u001b[0m\u001b[0;34m.\u001b[0m\u001b[0margmax\u001b[0m\u001b[0;34m(\u001b[0m\u001b[0maxis\u001b[0m\u001b[0;34m=\u001b[0m\u001b[0;36m1\u001b[0m\u001b[0;34m)\u001b[0m\u001b[0;34m)\u001b[0m\u001b[0;34m\u001b[0m\u001b[0m\n\u001b[0m",
      "\u001b[0;32m~/anaconda3/lib/python3.6/site-packages/sklearn/metrics/classification.py\u001b[0m in \u001b[0;36mconfusion_matrix\u001b[0;34m(y_true, y_pred, labels, sample_weight)\u001b[0m\n\u001b[1;32m    251\u001b[0m \u001b[0;34m\u001b[0m\u001b[0m\n\u001b[1;32m    252\u001b[0m     \"\"\"\n\u001b[0;32m--> 253\u001b[0;31m     \u001b[0my_type\u001b[0m\u001b[0;34m,\u001b[0m \u001b[0my_true\u001b[0m\u001b[0;34m,\u001b[0m \u001b[0my_pred\u001b[0m \u001b[0;34m=\u001b[0m \u001b[0m_check_targets\u001b[0m\u001b[0;34m(\u001b[0m\u001b[0my_true\u001b[0m\u001b[0;34m,\u001b[0m \u001b[0my_pred\u001b[0m\u001b[0;34m)\u001b[0m\u001b[0;34m\u001b[0m\u001b[0m\n\u001b[0m\u001b[1;32m    254\u001b[0m     \u001b[0;32mif\u001b[0m \u001b[0my_type\u001b[0m \u001b[0;32mnot\u001b[0m \u001b[0;32min\u001b[0m \u001b[0;34m(\u001b[0m\u001b[0;34m\"binary\"\u001b[0m\u001b[0;34m,\u001b[0m \u001b[0;34m\"multiclass\"\u001b[0m\u001b[0;34m)\u001b[0m\u001b[0;34m:\u001b[0m\u001b[0;34m\u001b[0m\u001b[0m\n\u001b[1;32m    255\u001b[0m         \u001b[0;32mraise\u001b[0m \u001b[0mValueError\u001b[0m\u001b[0;34m(\u001b[0m\u001b[0;34m\"%s is not supported\"\u001b[0m \u001b[0;34m%\u001b[0m \u001b[0my_type\u001b[0m\u001b[0;34m)\u001b[0m\u001b[0;34m\u001b[0m\u001b[0m\n",
      "\u001b[0;32m~/anaconda3/lib/python3.6/site-packages/sklearn/metrics/classification.py\u001b[0m in \u001b[0;36m_check_targets\u001b[0;34m(y_true, y_pred)\u001b[0m\n\u001b[1;32m     69\u001b[0m     \u001b[0my_pred\u001b[0m \u001b[0;34m:\u001b[0m \u001b[0marray\u001b[0m \u001b[0;32mor\u001b[0m \u001b[0mindicator\u001b[0m \u001b[0mmatrix\u001b[0m\u001b[0;34m\u001b[0m\u001b[0m\n\u001b[1;32m     70\u001b[0m     \"\"\"\n\u001b[0;32m---> 71\u001b[0;31m     \u001b[0mcheck_consistent_length\u001b[0m\u001b[0;34m(\u001b[0m\u001b[0my_true\u001b[0m\u001b[0;34m,\u001b[0m \u001b[0my_pred\u001b[0m\u001b[0;34m)\u001b[0m\u001b[0;34m\u001b[0m\u001b[0m\n\u001b[0m\u001b[1;32m     72\u001b[0m     \u001b[0mtype_true\u001b[0m \u001b[0;34m=\u001b[0m \u001b[0mtype_of_target\u001b[0m\u001b[0;34m(\u001b[0m\u001b[0my_true\u001b[0m\u001b[0;34m)\u001b[0m\u001b[0;34m\u001b[0m\u001b[0m\n\u001b[1;32m     73\u001b[0m     \u001b[0mtype_pred\u001b[0m \u001b[0;34m=\u001b[0m \u001b[0mtype_of_target\u001b[0m\u001b[0;34m(\u001b[0m\u001b[0my_pred\u001b[0m\u001b[0;34m)\u001b[0m\u001b[0;34m\u001b[0m\u001b[0m\n",
      "\u001b[0;32m~/anaconda3/lib/python3.6/site-packages/sklearn/utils/validation.py\u001b[0m in \u001b[0;36mcheck_consistent_length\u001b[0;34m(*arrays)\u001b[0m\n\u001b[1;32m    228\u001b[0m     \u001b[0;32mif\u001b[0m \u001b[0mlen\u001b[0m\u001b[0;34m(\u001b[0m\u001b[0muniques\u001b[0m\u001b[0;34m)\u001b[0m \u001b[0;34m>\u001b[0m \u001b[0;36m1\u001b[0m\u001b[0;34m:\u001b[0m\u001b[0;34m\u001b[0m\u001b[0m\n\u001b[1;32m    229\u001b[0m         raise ValueError(\"Found input variables with inconsistent numbers of\"\n\u001b[0;32m--> 230\u001b[0;31m                          \" samples: %r\" % [int(l) for l in lengths])\n\u001b[0m\u001b[1;32m    231\u001b[0m \u001b[0;34m\u001b[0m\u001b[0m\n\u001b[1;32m    232\u001b[0m \u001b[0;34m\u001b[0m\u001b[0m\n",
      "\u001b[0;31mValueError\u001b[0m: Found input variables with inconsistent numbers of samples: [885, 50]"
     ]
    }
   ],
   "source": [
    "#cm = confusion_matrix(test_labels, predicts.argmax(axis=1))"
   ]
  },
  {
   "cell_type": "code",
   "execution_count": 174,
   "metadata": {},
   "outputs": [],
   "source": [
    "test_im, test_labels = next(test_bches)"
   ]
  },
  {
   "cell_type": "code",
   "execution_count": 175,
   "metadata": {},
   "outputs": [
    {
     "data": {
      "text/plain": [
       "array([4, 4, 4, 5, 4, 3, 4, 0, 5, 4])"
      ]
     },
     "execution_count": 175,
     "metadata": {},
     "output_type": "execute_result"
    }
   ],
   "source": [
    "model.predict(test_im).argmax(axis=1)"
   ]
  },
  {
   "cell_type": "code",
   "execution_count": 176,
   "metadata": {},
   "outputs": [
    {
     "data": {
      "text/plain": [
       "array([4, 4, 4, 5, 4, 3, 4, 0, 5, 4])"
      ]
     },
     "execution_count": 176,
     "metadata": {},
     "output_type": "execute_result"
    }
   ],
   "source": [
    "test_labels.argmax(axis=1)"
   ]
  },
  {
   "cell_type": "code",
   "execution_count": 2,
   "metadata": {
    "collapsed": true
   },
   "outputs": [
    {
     "ename": "ValueError",
     "evalue": "Unknown activation function:relu6",
     "output_type": "error",
     "traceback": [
      "\u001b[0;31m---------------------------------------------------------------------------\u001b[0m",
      "\u001b[0;31mValueError\u001b[0m                                Traceback (most recent call last)",
      "\u001b[0;32m<ipython-input-2-b8e02d5866d9>\u001b[0m in \u001b[0;36m<module>\u001b[0;34m()\u001b[0m\n\u001b[1;32m      1\u001b[0m \u001b[0;32mfrom\u001b[0m \u001b[0mkeras\u001b[0m\u001b[0;34m.\u001b[0m\u001b[0mmodels\u001b[0m \u001b[0;32mimport\u001b[0m \u001b[0mload_model\u001b[0m\u001b[0;34m\u001b[0m\u001b[0m\n\u001b[0;32m----> 2\u001b[0;31m \u001b[0mmodel\u001b[0m \u001b[0;34m=\u001b[0m \u001b[0mload_model\u001b[0m\u001b[0;34m(\u001b[0m\u001b[0;34m\"modeltransfer.h5\"\u001b[0m\u001b[0;34m)\u001b[0m\u001b[0;34m\u001b[0m\u001b[0m\n\u001b[0m",
      "\u001b[0;32m~/anaconda3/lib/python3.6/site-packages/keras/models.py\u001b[0m in \u001b[0;36mload_model\u001b[0;34m(filepath, custom_objects, compile)\u001b[0m\n\u001b[1;32m    241\u001b[0m             \u001b[0;32mraise\u001b[0m \u001b[0mValueError\u001b[0m\u001b[0;34m(\u001b[0m\u001b[0;34m'No model found in config file.'\u001b[0m\u001b[0;34m)\u001b[0m\u001b[0;34m\u001b[0m\u001b[0m\n\u001b[1;32m    242\u001b[0m         \u001b[0mmodel_config\u001b[0m \u001b[0;34m=\u001b[0m \u001b[0mjson\u001b[0m\u001b[0;34m.\u001b[0m\u001b[0mloads\u001b[0m\u001b[0;34m(\u001b[0m\u001b[0mmodel_config\u001b[0m\u001b[0;34m.\u001b[0m\u001b[0mdecode\u001b[0m\u001b[0;34m(\u001b[0m\u001b[0;34m'utf-8'\u001b[0m\u001b[0;34m)\u001b[0m\u001b[0;34m)\u001b[0m\u001b[0;34m\u001b[0m\u001b[0m\n\u001b[0;32m--> 243\u001b[0;31m         \u001b[0mmodel\u001b[0m \u001b[0;34m=\u001b[0m \u001b[0mmodel_from_config\u001b[0m\u001b[0;34m(\u001b[0m\u001b[0mmodel_config\u001b[0m\u001b[0;34m,\u001b[0m \u001b[0mcustom_objects\u001b[0m\u001b[0;34m=\u001b[0m\u001b[0mcustom_objects\u001b[0m\u001b[0;34m)\u001b[0m\u001b[0;34m\u001b[0m\u001b[0m\n\u001b[0m\u001b[1;32m    244\u001b[0m \u001b[0;34m\u001b[0m\u001b[0m\n\u001b[1;32m    245\u001b[0m         \u001b[0;31m# set weights\u001b[0m\u001b[0;34m\u001b[0m\u001b[0;34m\u001b[0m\u001b[0m\n",
      "\u001b[0;32m~/anaconda3/lib/python3.6/site-packages/keras/models.py\u001b[0m in \u001b[0;36mmodel_from_config\u001b[0;34m(config, custom_objects)\u001b[0m\n\u001b[1;32m    315\u001b[0m                         \u001b[0;34m'Maybe you meant to use '\u001b[0m\u001b[0;34m\u001b[0m\u001b[0m\n\u001b[1;32m    316\u001b[0m                         '`Sequential.from_config(config)`?')\n\u001b[0;32m--> 317\u001b[0;31m     \u001b[0;32mreturn\u001b[0m \u001b[0mlayer_module\u001b[0m\u001b[0;34m.\u001b[0m\u001b[0mdeserialize\u001b[0m\u001b[0;34m(\u001b[0m\u001b[0mconfig\u001b[0m\u001b[0;34m,\u001b[0m \u001b[0mcustom_objects\u001b[0m\u001b[0;34m=\u001b[0m\u001b[0mcustom_objects\u001b[0m\u001b[0;34m)\u001b[0m\u001b[0;34m\u001b[0m\u001b[0m\n\u001b[0m\u001b[1;32m    318\u001b[0m \u001b[0;34m\u001b[0m\u001b[0m\n\u001b[1;32m    319\u001b[0m \u001b[0;34m\u001b[0m\u001b[0m\n",
      "\u001b[0;32m~/anaconda3/lib/python3.6/site-packages/keras/layers/__init__.py\u001b[0m in \u001b[0;36mdeserialize\u001b[0;34m(config, custom_objects)\u001b[0m\n\u001b[1;32m     53\u001b[0m                                     \u001b[0mmodule_objects\u001b[0m\u001b[0;34m=\u001b[0m\u001b[0mglobs\u001b[0m\u001b[0;34m,\u001b[0m\u001b[0;34m\u001b[0m\u001b[0m\n\u001b[1;32m     54\u001b[0m                                     \u001b[0mcustom_objects\u001b[0m\u001b[0;34m=\u001b[0m\u001b[0mcustom_objects\u001b[0m\u001b[0;34m,\u001b[0m\u001b[0;34m\u001b[0m\u001b[0m\n\u001b[0;32m---> 55\u001b[0;31m                                     printable_module_name='layer')\n\u001b[0m",
      "\u001b[0;32m~/anaconda3/lib/python3.6/site-packages/keras/utils/generic_utils.py\u001b[0m in \u001b[0;36mdeserialize_keras_object\u001b[0;34m(identifier, module_objects, custom_objects, printable_module_name)\u001b[0m\n\u001b[1;32m    141\u001b[0m                 return cls.from_config(config['config'],\n\u001b[1;32m    142\u001b[0m                                        custom_objects=dict(list(_GLOBAL_CUSTOM_OBJECTS.items()) +\n\u001b[0;32m--> 143\u001b[0;31m                                                            list(custom_objects.items())))\n\u001b[0m\u001b[1;32m    144\u001b[0m             \u001b[0;32mwith\u001b[0m \u001b[0mCustomObjectScope\u001b[0m\u001b[0;34m(\u001b[0m\u001b[0mcustom_objects\u001b[0m\u001b[0;34m)\u001b[0m\u001b[0;34m:\u001b[0m\u001b[0;34m\u001b[0m\u001b[0m\n\u001b[1;32m    145\u001b[0m                 \u001b[0;32mreturn\u001b[0m \u001b[0mcls\u001b[0m\u001b[0;34m.\u001b[0m\u001b[0mfrom_config\u001b[0m\u001b[0;34m(\u001b[0m\u001b[0mconfig\u001b[0m\u001b[0;34m[\u001b[0m\u001b[0;34m'config'\u001b[0m\u001b[0;34m]\u001b[0m\u001b[0;34m)\u001b[0m\u001b[0;34m\u001b[0m\u001b[0m\n",
      "\u001b[0;32m~/anaconda3/lib/python3.6/site-packages/keras/engine/topology.py\u001b[0m in \u001b[0;36mfrom_config\u001b[0;34m(cls, config, custom_objects)\u001b[0m\n\u001b[1;32m   2505\u001b[0m         \u001b[0;31m# First, we create all layers and enqueue nodes to be processed\u001b[0m\u001b[0;34m\u001b[0m\u001b[0;34m\u001b[0m\u001b[0m\n\u001b[1;32m   2506\u001b[0m         \u001b[0;32mfor\u001b[0m \u001b[0mlayer_data\u001b[0m \u001b[0;32min\u001b[0m \u001b[0mconfig\u001b[0m\u001b[0;34m[\u001b[0m\u001b[0;34m'layers'\u001b[0m\u001b[0;34m]\u001b[0m\u001b[0;34m:\u001b[0m\u001b[0;34m\u001b[0m\u001b[0m\n\u001b[0;32m-> 2507\u001b[0;31m             \u001b[0mprocess_layer\u001b[0m\u001b[0;34m(\u001b[0m\u001b[0mlayer_data\u001b[0m\u001b[0;34m)\u001b[0m\u001b[0;34m\u001b[0m\u001b[0m\n\u001b[0m\u001b[1;32m   2508\u001b[0m         \u001b[0;31m# Then we process nodes in order of layer depth.\u001b[0m\u001b[0;34m\u001b[0m\u001b[0;34m\u001b[0m\u001b[0m\n\u001b[1;32m   2509\u001b[0m         \u001b[0;31m# Nodes that cannot yet be processed (if the inbound node\u001b[0m\u001b[0;34m\u001b[0m\u001b[0;34m\u001b[0m\u001b[0m\n",
      "\u001b[0;32m~/anaconda3/lib/python3.6/site-packages/keras/engine/topology.py\u001b[0m in \u001b[0;36mprocess_layer\u001b[0;34m(layer_data)\u001b[0m\n\u001b[1;32m   2491\u001b[0m \u001b[0;34m\u001b[0m\u001b[0m\n\u001b[1;32m   2492\u001b[0m             layer = deserialize_layer(layer_data,\n\u001b[0;32m-> 2493\u001b[0;31m                                       custom_objects=custom_objects)\n\u001b[0m\u001b[1;32m   2494\u001b[0m             \u001b[0mcreated_layers\u001b[0m\u001b[0;34m[\u001b[0m\u001b[0mlayer_name\u001b[0m\u001b[0;34m]\u001b[0m \u001b[0;34m=\u001b[0m \u001b[0mlayer\u001b[0m\u001b[0;34m\u001b[0m\u001b[0m\n\u001b[1;32m   2495\u001b[0m \u001b[0;34m\u001b[0m\u001b[0m\n",
      "\u001b[0;32m~/anaconda3/lib/python3.6/site-packages/keras/layers/__init__.py\u001b[0m in \u001b[0;36mdeserialize\u001b[0;34m(config, custom_objects)\u001b[0m\n\u001b[1;32m     53\u001b[0m                                     \u001b[0mmodule_objects\u001b[0m\u001b[0;34m=\u001b[0m\u001b[0mglobs\u001b[0m\u001b[0;34m,\u001b[0m\u001b[0;34m\u001b[0m\u001b[0m\n\u001b[1;32m     54\u001b[0m                                     \u001b[0mcustom_objects\u001b[0m\u001b[0;34m=\u001b[0m\u001b[0mcustom_objects\u001b[0m\u001b[0;34m,\u001b[0m\u001b[0;34m\u001b[0m\u001b[0m\n\u001b[0;32m---> 55\u001b[0;31m                                     printable_module_name='layer')\n\u001b[0m",
      "\u001b[0;32m~/anaconda3/lib/python3.6/site-packages/keras/utils/generic_utils.py\u001b[0m in \u001b[0;36mdeserialize_keras_object\u001b[0;34m(identifier, module_objects, custom_objects, printable_module_name)\u001b[0m\n\u001b[1;32m    143\u001b[0m                                                            list(custom_objects.items())))\n\u001b[1;32m    144\u001b[0m             \u001b[0;32mwith\u001b[0m \u001b[0mCustomObjectScope\u001b[0m\u001b[0;34m(\u001b[0m\u001b[0mcustom_objects\u001b[0m\u001b[0;34m)\u001b[0m\u001b[0;34m:\u001b[0m\u001b[0;34m\u001b[0m\u001b[0m\n\u001b[0;32m--> 145\u001b[0;31m                 \u001b[0;32mreturn\u001b[0m \u001b[0mcls\u001b[0m\u001b[0;34m.\u001b[0m\u001b[0mfrom_config\u001b[0m\u001b[0;34m(\u001b[0m\u001b[0mconfig\u001b[0m\u001b[0;34m[\u001b[0m\u001b[0;34m'config'\u001b[0m\u001b[0;34m]\u001b[0m\u001b[0;34m)\u001b[0m\u001b[0;34m\u001b[0m\u001b[0m\n\u001b[0m\u001b[1;32m    146\u001b[0m         \u001b[0;32melse\u001b[0m\u001b[0;34m:\u001b[0m\u001b[0;34m\u001b[0m\u001b[0m\n\u001b[1;32m    147\u001b[0m             \u001b[0;31m# Then `cls` may be a function returning a class.\u001b[0m\u001b[0;34m\u001b[0m\u001b[0;34m\u001b[0m\u001b[0m\n",
      "\u001b[0;32m~/anaconda3/lib/python3.6/site-packages/keras/engine/topology.py\u001b[0m in \u001b[0;36mfrom_config\u001b[0;34m(cls, config)\u001b[0m\n\u001b[1;32m   1267\u001b[0m             \u001b[0mA\u001b[0m \u001b[0mlayer\u001b[0m \u001b[0minstance\u001b[0m\u001b[0;34m.\u001b[0m\u001b[0;34m\u001b[0m\u001b[0m\n\u001b[1;32m   1268\u001b[0m         \"\"\"\n\u001b[0;32m-> 1269\u001b[0;31m         \u001b[0;32mreturn\u001b[0m \u001b[0mcls\u001b[0m\u001b[0;34m(\u001b[0m\u001b[0;34m**\u001b[0m\u001b[0mconfig\u001b[0m\u001b[0;34m)\u001b[0m\u001b[0;34m\u001b[0m\u001b[0m\n\u001b[0m\u001b[1;32m   1270\u001b[0m \u001b[0;34m\u001b[0m\u001b[0m\n\u001b[1;32m   1271\u001b[0m     \u001b[0;32mdef\u001b[0m \u001b[0mcount_params\u001b[0m\u001b[0;34m(\u001b[0m\u001b[0mself\u001b[0m\u001b[0;34m)\u001b[0m\u001b[0;34m:\u001b[0m\u001b[0;34m\u001b[0m\u001b[0m\n",
      "\u001b[0;32m~/anaconda3/lib/python3.6/site-packages/keras/layers/core.py\u001b[0m in \u001b[0;36m__init__\u001b[0;34m(self, activation, **kwargs)\u001b[0m\n\u001b[1;32m    298\u001b[0m         \u001b[0msuper\u001b[0m\u001b[0;34m(\u001b[0m\u001b[0mActivation\u001b[0m\u001b[0;34m,\u001b[0m \u001b[0mself\u001b[0m\u001b[0;34m)\u001b[0m\u001b[0;34m.\u001b[0m\u001b[0m__init__\u001b[0m\u001b[0;34m(\u001b[0m\u001b[0;34m**\u001b[0m\u001b[0mkwargs\u001b[0m\u001b[0;34m)\u001b[0m\u001b[0;34m\u001b[0m\u001b[0m\n\u001b[1;32m    299\u001b[0m         \u001b[0mself\u001b[0m\u001b[0;34m.\u001b[0m\u001b[0msupports_masking\u001b[0m \u001b[0;34m=\u001b[0m \u001b[0;32mTrue\u001b[0m\u001b[0;34m\u001b[0m\u001b[0m\n\u001b[0;32m--> 300\u001b[0;31m         \u001b[0mself\u001b[0m\u001b[0;34m.\u001b[0m\u001b[0mactivation\u001b[0m \u001b[0;34m=\u001b[0m \u001b[0mactivations\u001b[0m\u001b[0;34m.\u001b[0m\u001b[0mget\u001b[0m\u001b[0;34m(\u001b[0m\u001b[0mactivation\u001b[0m\u001b[0;34m)\u001b[0m\u001b[0;34m\u001b[0m\u001b[0m\n\u001b[0m\u001b[1;32m    301\u001b[0m \u001b[0;34m\u001b[0m\u001b[0m\n\u001b[1;32m    302\u001b[0m     \u001b[0;32mdef\u001b[0m \u001b[0mcall\u001b[0m\u001b[0;34m(\u001b[0m\u001b[0mself\u001b[0m\u001b[0;34m,\u001b[0m \u001b[0minputs\u001b[0m\u001b[0;34m)\u001b[0m\u001b[0;34m:\u001b[0m\u001b[0;34m\u001b[0m\u001b[0m\n",
      "\u001b[0;32m~/anaconda3/lib/python3.6/site-packages/keras/activations.py\u001b[0m in \u001b[0;36mget\u001b[0;34m(identifier)\u001b[0m\n\u001b[1;32m    105\u001b[0m     \u001b[0;32mif\u001b[0m \u001b[0misinstance\u001b[0m\u001b[0;34m(\u001b[0m\u001b[0midentifier\u001b[0m\u001b[0;34m,\u001b[0m \u001b[0msix\u001b[0m\u001b[0;34m.\u001b[0m\u001b[0mstring_types\u001b[0m\u001b[0;34m)\u001b[0m\u001b[0;34m:\u001b[0m\u001b[0;34m\u001b[0m\u001b[0m\n\u001b[1;32m    106\u001b[0m         \u001b[0midentifier\u001b[0m \u001b[0;34m=\u001b[0m \u001b[0mstr\u001b[0m\u001b[0;34m(\u001b[0m\u001b[0midentifier\u001b[0m\u001b[0;34m)\u001b[0m\u001b[0;34m\u001b[0m\u001b[0m\n\u001b[0;32m--> 107\u001b[0;31m         \u001b[0;32mreturn\u001b[0m \u001b[0mdeserialize\u001b[0m\u001b[0;34m(\u001b[0m\u001b[0midentifier\u001b[0m\u001b[0;34m)\u001b[0m\u001b[0;34m\u001b[0m\u001b[0m\n\u001b[0m\u001b[1;32m    108\u001b[0m     \u001b[0;32melif\u001b[0m \u001b[0mcallable\u001b[0m\u001b[0;34m(\u001b[0m\u001b[0midentifier\u001b[0m\u001b[0;34m)\u001b[0m\u001b[0;34m:\u001b[0m\u001b[0;34m\u001b[0m\u001b[0m\n\u001b[1;32m    109\u001b[0m         \u001b[0;32mif\u001b[0m \u001b[0misinstance\u001b[0m\u001b[0;34m(\u001b[0m\u001b[0midentifier\u001b[0m\u001b[0;34m,\u001b[0m \u001b[0mLayer\u001b[0m\u001b[0;34m)\u001b[0m\u001b[0;34m:\u001b[0m\u001b[0;34m\u001b[0m\u001b[0m\n",
      "\u001b[0;32m~/anaconda3/lib/python3.6/site-packages/keras/activations.py\u001b[0m in \u001b[0;36mdeserialize\u001b[0;34m(name, custom_objects)\u001b[0m\n\u001b[1;32m     97\u001b[0m                                     \u001b[0mmodule_objects\u001b[0m\u001b[0;34m=\u001b[0m\u001b[0mglobals\u001b[0m\u001b[0;34m(\u001b[0m\u001b[0;34m)\u001b[0m\u001b[0;34m,\u001b[0m\u001b[0;34m\u001b[0m\u001b[0m\n\u001b[1;32m     98\u001b[0m                                     \u001b[0mcustom_objects\u001b[0m\u001b[0;34m=\u001b[0m\u001b[0mcustom_objects\u001b[0m\u001b[0;34m,\u001b[0m\u001b[0;34m\u001b[0m\u001b[0m\n\u001b[0;32m---> 99\u001b[0;31m                                     printable_module_name='activation function')\n\u001b[0m\u001b[1;32m    100\u001b[0m \u001b[0;34m\u001b[0m\u001b[0m\n\u001b[1;32m    101\u001b[0m \u001b[0;34m\u001b[0m\u001b[0m\n",
      "\u001b[0;32m~/anaconda3/lib/python3.6/site-packages/keras/utils/generic_utils.py\u001b[0m in \u001b[0;36mdeserialize_keras_object\u001b[0;34m(identifier, module_objects, custom_objects, printable_module_name)\u001b[0m\n\u001b[1;32m    161\u001b[0m             \u001b[0;32mif\u001b[0m \u001b[0mfn\u001b[0m \u001b[0;32mis\u001b[0m \u001b[0;32mNone\u001b[0m\u001b[0;34m:\u001b[0m\u001b[0;34m\u001b[0m\u001b[0m\n\u001b[1;32m    162\u001b[0m                 raise ValueError('Unknown ' + printable_module_name +\n\u001b[0;32m--> 163\u001b[0;31m                                  ':' + function_name)\n\u001b[0m\u001b[1;32m    164\u001b[0m         \u001b[0;32mreturn\u001b[0m \u001b[0mfn\u001b[0m\u001b[0;34m\u001b[0m\u001b[0m\n\u001b[1;32m    165\u001b[0m     \u001b[0;32melse\u001b[0m\u001b[0;34m:\u001b[0m\u001b[0;34m\u001b[0m\u001b[0m\n",
      "\u001b[0;31mValueError\u001b[0m: Unknown activation function:relu6"
     ]
    }
   ],
   "source": [
    "from keras.models import load_model\n",
    "model = load_model(\"modeltransfer.h5\")"
   ]
  },
  {
   "cell_type": "code",
   "execution_count": 3,
   "metadata": {},
   "outputs": [],
   "source": [
    "from keras.utils.generic_utils import CustomObjectScope\n",
    "\n",
    "with CustomObjectScope({'relu6': keras.applications.mobilenet.relu6,'DepthwiseConv2D': keras.applications.mobilenet.DepthwiseConv2D}):\n",
    "    model = load_model('modeltransfer.h5')"
   ]
  },
  {
   "cell_type": "code",
   "execution_count": null,
   "metadata": {},
   "outputs": [],
   "source": [
    "model.predict(\"\")"
   ]
  }
 ],
 "metadata": {
  "kernelspec": {
   "display_name": "Python 3",
   "language": "python",
   "name": "python3"
  },
  "language_info": {
   "codemirror_mode": {
    "name": "ipython",
    "version": 3
   },
   "file_extension": ".py",
   "mimetype": "text/x-python",
   "name": "python",
   "nbconvert_exporter": "python",
   "pygments_lexer": "ipython3",
   "version": "3.6.4"
  }
 },
 "nbformat": 4,
 "nbformat_minor": 2
}
